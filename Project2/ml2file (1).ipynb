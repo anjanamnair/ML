{
 "cells": [
  {
   "cell_type": "code",
   "execution_count": 2,
   "id": "28828572",
   "metadata": {},
   "outputs": [],
   "source": [
    "import pandas as pd\n",
    "import numpy as np\n",
    "import seaborn as sns\n",
    "import matplotlib.pyplot as plt\n",
    "import csv\n",
    "\n",
    "\n"
   ]
  },
  {
   "cell_type": "code",
   "execution_count": 69,
   "id": "97df7876",
   "metadata": {},
   "outputs": [],
   "source": [
    "feature_data = pd.read_csv('features-train.tsv',delimiter=\"\\t\")\n",
    "clarity_dataset = pd.read_csv('clarity-scores-train.tsv',delimiter=\"\\t\")\n",
    "quality_dataset = pd.read_csv('quality-scores-train.tsv',delimiter=\"\\t\")\n",
    "test_dataset = pd.read_csv('features-test.tsv',delimiter=\"\\t\")"
   ]
  },
  {
   "cell_type": "code",
   "execution_count": null,
   "id": "a78fb456",
   "metadata": {},
   "outputs": [],
   "source": []
  },
  {
   "cell_type": "code",
   "execution_count": 67,
   "id": "32cb8733",
   "metadata": {},
   "outputs": [
    {
     "data": {
      "image/png": "[encoded data removed]",
      "text/plain": [
       "<Figure size 432x288 with 1 Axes>"
      ]
     },
     "metadata": {
      "needs_background": "light"
     },
     "output_type": "display_data"
    }
   ],
   "source": [
    "plt.scatter(feature_data[\"misspelled_word_ratio\"],clarity_dataset[\"clarity\"])\n",
    "plt.xlabel('misspelled_word_ratio')\n",
    "plt.ylabel('Clarity')\n",
    "plt.title('Scatter plot of misspelled_word_ratio vs Clarity')\n",
    "plt.show()"
   ]
  },
  {
   "cell_type": "code",
   "execution_count": 55,
   "id": "6e7c545c",
   "metadata": {},
   "outputs": [],
   "source": [
    "def lms(features,clarity, x2=0, y2=0):\n",
    "    w0,w1 = 0,0\n",
    "    x1 = np.mean(features[\"misspelled_word_ratio\"])\n",
    "    y1 = np.mean(clarity[\"clarity\"])\n",
    "    \n",
    "    n = len(features)\n",
    "    \n",
    "#     x_values = [(row[\"misspelled_word_ratio\"]) for row in features]\n",
    "     #ypred =[w0 + w1*x for x in feature_data[\"misspelled_word_ratio\"]]\n",
    "    for i in range(n):\n",
    "        xpred = features[\"misspelled_word_ratio\"][i]\n",
    "        ypred = clarity[\"clarity\"][i]\n",
    "#        \n",
    "        x2 += (xpred-x1) *(ypred-y1)\n",
    "        y2 += (xpred-x1)**2\n",
    "        w0 = x2/y2\n",
    "        w1 = y1-w0*x1\n",
    "        \n",
    "    return w0, w1    \n",
    "        "
   ]
  },
  {
   "cell_type": "code",
   "execution_count": 50,
   "id": "85a43fb1",
   "metadata": {},
   "outputs": [],
   "source": [
    "w0, w1 = lms(feature_data,clarity_dataset)"
   ]
  },
  {
   "cell_type": "code",
   "execution_count": 51,
   "id": "16b00d38",
   "metadata": {},
   "outputs": [
    {
     "data": {
      "text/plain": [
       "-3.6188841824154507"
      ]
     },
     "execution_count": 51,
     "metadata": {},
     "output_type": "execute_result"
    }
   ],
   "source": [
    "w0"
   ]
  },
  {
   "cell_type": "code",
   "execution_count": 52,
   "id": "8aa1fa32",
   "metadata": {},
   "outputs": [
    {
     "data": {
      "text/plain": [
       "2.107908001443444"
      ]
     },
     "execution_count": 52,
     "metadata": {},
     "output_type": "execute_result"
    }
   ],
   "source": [
    "w1"
   ]
  },
  {
   "cell_type": "code",
   "execution_count": 68,
   "id": "c6da242a",
   "metadata": {},
   "outputs": [
    {
     "data": {
      "image/png": "[encoded data removed]",
      "text/plain": [
       "<Figure size 432x288 with 1 Axes>"
      ]
     },
     "metadata": {
      "needs_background": "light"
     },
     "output_type": "display_data"
    }
   ],
   "source": [
    "plt.scatter(feature_data[\"misspelled_word_ratio\"],clarity_dataset[\"clarity\"], color='red')\n",
    "plt.plot(feature_data[\"misspelled_word_ratio\"], [w0 + w1*x for x in feature_data[\"misspelled_word_ratio\"]], color='green')\n",
    "plt.xlabel('misspelled_word_ratio')\n",
    "plt.ylabel('Clarity')\n",
    "plt.title('Best Fit Line')\n",
    "plt.show()"
   ]
  },
  {
   "cell_type": "code",
   "execution_count": 64,
   "id": "e6954d7d",
   "metadata": {},
   "outputs": [
    {
     "data": {
      "text/plain": [
       "8091.909212169797"
      ]
     },
     "execution_count": 64,
     "metadata": {},
     "output_type": "execute_result"
    }
   ],
   "source": [
    "# rss = sum([(clarity_dataset[\"clarity\"][i]-(w0 +w1* feature_data[\"misspelled_word_ratio\"][i]))**2 for i in range(len(feature_data))])\n",
    "# rss"
   ]
  },
  {
   "cell_type": "code",
   "execution_count": 65,
   "id": "95ddf3ed",
   "metadata": {},
   "outputs": [
    {
     "data": {
      "text/plain": [
       "8091.909212169797"
      ]
     },
     "execution_count": 65,
     "metadata": {},
     "output_type": "execute_result"
    }
   ],
   "source": [
    "rss=0\n",
    "for i in range(len(feature_data)):\n",
    "    rss+= (clarity_dataset[\"clarity\"][i] - (w0 +w1* feature_data[\"misspelled_word_ratio\"][i]))**2\n",
    "rss"
   ]
  },
  {
   "cell_type": "code",
   "execution_count": null,
   "id": "ccc63c52",
   "metadata": {},
   "outputs": [],
   "source": []
  },
  {
   "cell_type": "code",
   "execution_count": null,
   "id": "51576937",
   "metadata": {},
   "outputs": [],
   "source": []
  },
  {
   "cell_type": "code",
   "execution_count": null,
   "id": "95ac2fb6",
   "metadata": {},
   "outputs": [],
   "source": []
  }
 ],
 "metadata": {
  "kernelspec": {
   "display_name": "Python 3 (ipykernel)",
   "language": "python",
   "name": "python3"
  },
  "language_info": {
   "codemirror_mode": {
    "name": "ipython",
    "version": 3
   },
   "file_extension": ".py",
   "mimetype": "text/x-python",
   "name": "python",
   "nbconvert_exporter": "python",
   "pygments_lexer": "ipython3",
   "version": "3.9.12"
  }
 },
 "nbformat": 4,
 "nbformat_minor": 5
}
